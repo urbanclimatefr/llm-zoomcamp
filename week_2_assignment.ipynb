{
 "cells": [
  {
   "cell_type": "markdown",
   "id": "1be30d34",
   "metadata": {},
   "source": [
    "# Embeddingss"
   ]
  },
  {
   "cell_type": "markdown",
   "id": "40bd78bc",
   "metadata": {},
   "source": [
    "make sure it is installed"
   ]
  },
  {
   "cell_type": "code",
   "execution_count": 2,
   "id": "e3a4df0d",
   "metadata": {},
   "outputs": [
    {
     "name": "stdout",
     "output_type": "stream",
     "text": [
      "Note: you may need to restart the kernel to use updated packages.\n"
     ]
    },
    {
     "name": "stderr",
     "output_type": "stream",
     "text": [
      "\u001b[2mUsing Python 3.10.16 environment at: C:\\Users\\tinyu\\anaconda3\\envs\\llm_1\u001b[0m\n",
      "\u001b[2mAudited \u001b[1m1 package\u001b[0m \u001b[2min 7ms\u001b[0m\u001b[0m\n"
     ]
    }
   ],
   "source": [
    "uv pip install fastembed"
   ]
  },
  {
   "cell_type": "markdown",
   "id": "39b83446",
   "metadata": {},
   "source": [
    "import it"
   ]
  },
  {
   "cell_type": "code",
   "execution_count": 3,
   "id": "e635a4ef",
   "metadata": {},
   "outputs": [],
   "source": [
    "from fastembed import TextEmbedding"
   ]
  },
  {
   "cell_type": "markdown",
   "id": "88dee760",
   "metadata": {},
   "source": [
    "# Q1. Embedding the query"
   ]
  },
  {
   "cell_type": "code",
   "execution_count": 8,
   "id": "0a7cd0d3",
   "metadata": {},
   "outputs": [
    {
     "name": "stdout",
     "output_type": "stream",
     "text": [
      "Minimal value in in embedding: -0.11726373885183883\n"
     ]
    }
   ],
   "source": [
    "from fastembed import TextEmbedding\n",
    "import numpy as np\n",
    "\n",
    "# Initialize the embedding model\n",
    "model = TextEmbedding(model_name=\"jinaai/jina-embeddings-v2-small-en\")\n",
    "\n",
    "# Query to embed\n",
    "query = \"I just discovered the course. Can I join now?\"\n",
    "\n",
    "# Get embedding (returns a generator, so convert to list)\n",
    "embedding = list(model.embed([query]))[0]  # shape: (512,)\n",
    "\n",
    "# Print minimal value\n",
    "print(\"Minimal value in in embedding:\", np.min(embedding))"
   ]
  },
  {
   "cell_type": "markdown",
   "id": "90e0de58",
   "metadata": {},
   "source": [
    "# Cosine Similarity\n",
    "The vectors that our embedding model returns are already normalized: their length is 1.0."
   ]
  },
  {
   "cell_type": "code",
   "execution_count": 10,
   "id": "c7bacc3a",
   "metadata": {},
   "outputs": [
    {
     "data": {
      "text/plain": [
       "np.float64(1.0)"
      ]
     },
     "execution_count": 10,
     "metadata": {},
     "output_type": "execute_result"
    }
   ],
   "source": [
    "import numpy as np\n",
    "q =embedding\n",
    "np.linalg.norm(q)"
   ]
  },
  {
   "cell_type": "markdown",
   "id": "463ec558",
   "metadata": {},
   "source": [
    "Which means that we can simply compute the dot product between two vectors to learn the cosine similarity between them."
   ]
  },
  {
   "cell_type": "code",
   "execution_count": 11,
   "id": "12407130",
   "metadata": {},
   "outputs": [
    {
     "data": {
      "text/plain": [
       "np.float64(1.0000000000000002)"
      ]
     },
     "execution_count": 11,
     "metadata": {},
     "output_type": "execute_result"
    }
   ],
   "source": [
    "q.dot(q)"
   ]
  },
  {
   "cell_type": "markdown",
   "id": "5df30f5e",
   "metadata": {},
   "source": [
    "# Q2. Cosine similarity with another vector"
   ]
  },
  {
   "cell_type": "code",
   "execution_count": 13,
   "id": "c8d9a1d6",
   "metadata": {},
   "outputs": [
    {
     "name": "stdout",
     "output_type": "stream",
     "text": [
      "Cosine similarity: 0.9008528895674548\n"
     ]
    }
   ],
   "source": [
    "# Initialize the embedding model\n",
    "model = TextEmbedding(model_name=\"jinaai/jina-embeddings-v2-small-en\")\n",
    "\n",
    "# Queries to embed\n",
    "query = \"I just discovered the course. Can I join now?\"\n",
    "doc = \"Can I still join the course after the start date?\"\n",
    "\n",
    "# Get embeddings\n",
    "query_emb = list(model.embed([query]))[0]\n",
    "doc_emb = list(model.embed([doc]))[0]\n",
    "\n",
    "# Compute cosine similarity\n",
    "cos_sim = np.dot(query_emb, doc_emb) / (np.linalg.norm(query_emb) * np.linalg.norm(doc_emb))\n",
    "print(\"Cosine similarity:\", cos_sim)"
   ]
  },
  {
   "cell_type": "markdown",
   "id": "b4da9a3d",
   "metadata": {},
   "source": [
    "# Q3 Ranking by cosine"
   ]
  },
  {
   "cell_type": "code",
   "execution_count": 15,
   "id": "300ac183",
   "metadata": {},
   "outputs": [
    {
     "name": "stdout",
     "output_type": "stream",
     "text": [
      "Document index with highest similarity: 1\n"
     ]
    }
   ],
   "source": [
    "# Documents\n",
    "documents = [\n",
    "    {'text': \"Yes, even if you don't register, you're still eligible to submit the homeworks.\\nBe aware, however, that there will be deadlines for turning in the final projects. So don't leave everything for the last minute.\",\n",
    "     'section': 'General course-related questions',\n",
    "     'question': 'Course - Can I still join the course after the start date?',\n",
    "     'course': 'data-engineering-zoomcamp'},\n",
    "    {'text': 'Yes, we will keep all the materials after the course finishes, so you can follow the course at your own pace after it finishes.\\nYou can also continue looking at the homeworks and continue preparing for the next cohort. I guess you can also start working on your final capstone project.',\n",
    "     'section': 'General course-related questions',\n",
    "     'question': 'Course - Can I follow the course after it finishes?',\n",
    "     'course': 'data-engineering-zoomcamp'},\n",
    "    {'text': \"The purpose of this document is to capture frequently asked technical questions\\nThe exact day and hour of the course will be 15th Jan 2024 at 17h00. The course will start with the first  “Office Hours'' live.1\\nSubscribe to course public Google Calendar (it works from Desktop only).\\nRegister before the course starts using this link.\\nJoin the course Telegram channel with announcements.\\nDon’t forget to register in DataTalks.Club's Slack and join the channel.\",\n",
    "     'section': 'General course-related questions',\n",
    "     'question': 'Course - When will the course start?',\n",
    "     'course': 'data-engineering-zoomcamp'},\n",
    "    {'text': 'You can start by installing and setting up all the dependencies and requirements:\\nGoogle cloud account\\nGoogle Cloud SDK\\nPython 3 (installed with Anaconda)\\nTerraform\\nGit\\nLook over the prerequisites and syllabus to see if you are comfortable with these subjects.',\n",
    "     'section': 'General course-related questions',\n",
    "     'question': 'Course - What can I do before the course starts?',\n",
    "     'course': 'data-engineering-zoomcamp'},\n",
    "    {'text': 'Star the repo! Share it with friends if you find it useful ❣️\\nCreate a PR if you see you can improve the text or the structure of the repository.',\n",
    "     'section': 'General course-related questions',\n",
    "     'question': 'How can we contribute to the course?',\n",
    "     'course': 'data-engineering-zoomcamp'}\n",
    "]\n",
    "\n",
    "# Query\n",
    "query = \"I just discovered the course. Can I join now?\"\n",
    "\n",
    "# Initialize embedding model\n",
    "model = TextEmbedding(model_name=\"jinaai/jina-embeddings-v2-small-en\")\n",
    "\n",
    "# Embed query\n",
    "q_emb = list(model.embed([query]))[0]\n",
    "\n",
    "# Embed all document texts\n",
    "doc_texts = [doc['text'] for doc in documents]\n",
    "V = np.array(list(model.embed(doc_texts)))  # shape: (5, 512)\n",
    "\n",
    "# Normalize embeddings\n",
    "q_emb_norm = q_emb / np.linalg.norm(q_emb)\n",
    "V_norm = V / np.linalg.norm(V, axis=1, keepdims=True)\n",
    "\n",
    "# Compute cosine similarities\n",
    "cosines = V_norm.dot(q_emb_norm)\n",
    "\n",
    "# Find index with highest similarity\n",
    "max_idx = np.argmax(cosines)\n",
    "print(\"Document index with highest similarity:\", max_idx)"
   ]
  },
  {
   "cell_type": "markdown",
   "id": "fac31fad",
   "metadata": {},
   "source": [
    "# Q4. Ranking by cosine, version two"
   ]
  },
  {
   "cell_type": "code",
   "execution_count": 16,
   "id": "f9b30730",
   "metadata": {},
   "outputs": [
    {
     "name": "stdout",
     "output_type": "stream",
     "text": [
      "Document index with highest similarity: 0\n"
     ]
    }
   ],
   "source": [
    "from fastembed import TextEmbedding\n",
    "import numpy as np\n",
    "\n",
    "# Documents (same as before)\n",
    "documents = [\n",
    "    {'text': \"Yes, even if you don't register, you're still eligible to submit the homeworks.\\nBe aware, however, that there will be deadlines for turning in the final projects. So don't leave everything for the last minute.\",\n",
    "     'section': 'General course-related questions',\n",
    "     'question': 'Course - Can I still join the course after the start date?',\n",
    "     'course': 'data-engineering-zoomcamp'},\n",
    "    {'text': 'Yes, we will keep all the materials after the course finishes, so you can follow the course at your own pace after it finishes.\\nYou can also continue looking at the homeworks and continue preparing for the next cohort. I guess you can also start working on your final capstone project.',\n",
    "     'section': 'General course-related questions',\n",
    "     'question': 'Course - Can I follow the course after it finishes?',\n",
    "     'course': 'data-engineering-zoomcamp'},\n",
    "    {'text': \"The purpose of this document is to capture frequently asked technical questions\\nThe exact day and hour of the course will be 15th Jan 2024 at 17h00. The course will start with the first  “Office Hours'' live.1\\nSubscribe to course public Google Calendar (it works from Desktop only).\\nRegister before the course starts using this link.\\nJoin the course Telegram channel with announcements.\\nDon’t forget to register in DataTalks.Club's Slack and join the channel.\",\n",
    "     'section': 'General course-related questions',\n",
    "     'question': 'Course - When will the course start?',\n",
    "     'course': 'data-engineering-zoomcamp'},\n",
    "    {'text': 'You can start by installing and setting up all the dependencies and requirements:\\nGoogle cloud account\\nGoogle Cloud SDK\\nPython 3 (installed with Anaconda)\\nTerraform\\nGit\\nLook over the prerequisites and syllabus to see if you are comfortable with these subjects.',\n",
    "     'section': 'General course-related questions',\n",
    "     'question': 'Course - What can I do before the course starts?',\n",
    "     'course': 'data-engineering-zoomcamp'},\n",
    "    {'text': 'Star the repo! Share it with friends if you find it useful ❣️\\nCreate a PR if you see you can improve the text or the structure of the repository.',\n",
    "     'section': 'General course-related questions',\n",
    "     'question': 'How can we contribute to the course?',\n",
    "     'course': 'data-engineering-zoomcamp'}\n",
    "]\n",
    "\n",
    "# Query\n",
    "query = \"I just discovered the course. Can I join now?\"\n",
    "\n",
    "# Initialize embedding model\n",
    "model = TextEmbedding(model_name=\"jinaai/jina-embeddings-v2-small-en\")\n",
    "\n",
    "# Embed query\n",
    "q_emb = list(model.embed([query]))[0]\n",
    "\n",
    "# Create full_text field\n",
    "full_texts = [doc['question'] + ' ' + doc['text'] for doc in documents]\n",
    "\n",
    "# Embed all full_texts\n",
    "V = np.array(list(model.embed(full_texts)))\n",
    "\n",
    "# Normalize embeddings\n",
    "q_emb_norm = q_emb / np.linalg.norm(q_emb)\n",
    "V_norm = V / np.linalg.norm(V, axis=1, keepdims=True)\n",
    "\n",
    "# Compute cosine similarities\n",
    "cosines = V_norm.dot(q_emb_norm)\n",
    "\n",
    "# Find index with highest similarity\n",
    "max_idx = np.argmax(cosines)\n",
    "print(\"Document index with highest similarity:\", max_idx)"
   ]
  },
  {
   "cell_type": "markdown",
   "id": "9833712e",
   "metadata": {},
   "source": [
    "# Q5 Selecting the embedding model"
   ]
  },
  {
   "cell_type": "markdown",
   "id": "52f3ccda",
   "metadata": {},
   "source": [
    "The smallest dimensionality for models in fastembed is:\n",
    "\n",
    "384\n",
    "\n",
    "For example, BAAI/bge-small-en produces embeddings of size 384."
   ]
  },
  {
   "cell_type": "markdown",
   "id": "3005b125",
   "metadata": {},
   "source": [
    "# Q6. Indexing with qdrant (2 points)"
   ]
  },
  {
   "cell_type": "code",
   "execution_count": 17,
   "id": "b1a0085b",
   "metadata": {},
   "outputs": [],
   "source": [
    "import requests \n",
    "\n",
    "docs_url = 'https://github.com/alexeygrigorev/llm-rag-workshop/raw/main/notebooks/documents.json'\n",
    "docs_response = requests.get(docs_url)\n",
    "documents_raw = docs_response.json()\n",
    "\n",
    "\n",
    "documents = []\n",
    "\n",
    "for course in documents_raw:\n",
    "    course_name = course['course']\n",
    "    if course_name != 'machine-learning-zoomcamp':\n",
    "        continue\n",
    "\n",
    "    for doc in course['documents']:\n",
    "        doc['course'] = course_name\n",
    "        documents.append(doc)"
   ]
  },
  {
   "cell_type": "code",
   "execution_count": 19,
   "id": "2281cf1f",
   "metadata": {},
   "outputs": [],
   "source": [
    "from qdrant_client import QdrantClient, models\n",
    "\n",
    "# Download documents\n",
    "docs_url = 'https://github.com/alexeygrigorev/llm-rag-workshop/raw/main/notebooks/documents.json'\n",
    "documents_raw = requests.get(docs_url).json()\n",
    "\n",
    "\n",
    "# Prepare texts for embedding\n",
    "full_texts = [doc['question'] + ' ' + doc['text'] for doc in documents]"
   ]
  },
  {
   "cell_type": "code",
   "execution_count": 20,
   "id": "a89a0088",
   "metadata": {},
   "outputs": [
    {
     "data": {
      "application/vnd.jupyter.widget-view+json": {
       "model_id": "1a21094f89fb486782f9651b406c849f",
       "version_major": 2,
       "version_minor": 0
      },
      "text/plain": [
       "Fetching 5 files:   0%|          | 0/5 [00:00<?, ?it/s]"
      ]
     },
     "metadata": {},
     "output_type": "display_data"
    }
   ],
   "source": [
    "# Use BAAI/bge-small-en (384d)\n",
    "model = TextEmbedding(model_name=\"BAAI/bge-small-en\")\n",
    "embeddings = list(model.embed(full_texts))"
   ]
  },
  {
   "cell_type": "code",
   "execution_count": 21,
   "id": "bf33b6e7",
   "metadata": {},
   "outputs": [],
   "source": [
    "# Connect to Qdrant (local, default port)\n",
    "client = QdrantClient(\"localhost\")  # Use in-memory for demo; use 'localhost' for persistent"
   ]
  },
  {
   "cell_type": "code",
   "execution_count": 22,
   "id": "514dfbf7",
   "metadata": {},
   "outputs": [
    {
     "name": "stderr",
     "output_type": "stream",
     "text": [
      "C:\\Users\\tinyu\\AppData\\Local\\Temp\\ipykernel_8952\\426851449.py:3: DeprecationWarning: `recreate_collection` method is deprecated and will be removed in the future. Use `collection_exists` to check collection existence and `create_collection` instead.\n",
      "  client.recreate_collection(\n"
     ]
    },
    {
     "data": {
      "text/plain": [
       "True"
      ]
     },
     "execution_count": 22,
     "metadata": {},
     "output_type": "execute_result"
    }
   ],
   "source": [
    "# Create collection\n",
    "collection_name = \"ml_zoomcamp_faq\"\n",
    "client.recreate_collection(\n",
    "    collection_name=collection_name,\n",
    "    vectors_config=models.VectorParams(size=384, distance=models.Distance.COSINE)\n",
    ")"
   ]
  },
  {
   "cell_type": "code",
   "execution_count": 23,
   "id": "bbb4e060",
   "metadata": {},
   "outputs": [],
   "source": [
    "# Upload documents\n",
    "client.upload_collection(\n",
    "    collection_name=collection_name,\n",
    "    vectors=embeddings,\n",
    "    payload=documents,\n",
    "    ids=None,\n",
    "    batch_size=64\n",
    ")"
   ]
  },
  {
   "cell_type": "code",
   "execution_count": 24,
   "id": "fcc96668",
   "metadata": {},
   "outputs": [],
   "source": [
    "# Query\n",
    "query = \"I just discovered the course. Can I join now?\"\n",
    "query_emb = list(model.embed([query]))[0]\n"
   ]
  },
  {
   "cell_type": "code",
   "execution_count": 25,
   "id": "f5d2afbb",
   "metadata": {},
   "outputs": [
    {
     "name": "stdout",
     "output_type": "stream",
     "text": [
      "Highest score: 0.8703172\n"
     ]
    },
    {
     "name": "stderr",
     "output_type": "stream",
     "text": [
      "C:\\Users\\tinyu\\AppData\\Local\\Temp\\ipykernel_8952\\2728517687.py:2: DeprecationWarning: `search` method is deprecated and will be removed in the future. Use `query_points` instead.\n",
      "  results = client.search(\n"
     ]
    }
   ],
   "source": [
    "# Search\n",
    "results = client.search(\n",
    "    collection_name=collection_name,\n",
    "    query_vector=query_emb,\n",
    "    limit=1\n",
    ")\n",
    "\n",
    "print(\"Highest score:\", results[0].score)"
   ]
  }
 ],
 "metadata": {
  "kernelspec": {
   "display_name": "llm_1",
   "language": "python",
   "name": "python3"
  },
  "language_info": {
   "codemirror_mode": {
    "name": "ipython",
    "version": 3
   },
   "file_extension": ".py",
   "mimetype": "text/x-python",
   "name": "python",
   "nbconvert_exporter": "python",
   "pygments_lexer": "ipython3",
   "version": "3.10.16"
  }
 },
 "nbformat": 4,
 "nbformat_minor": 5
}
