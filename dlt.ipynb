{
 "cells": [
  {
   "cell_type": "markdown",
   "id": "ba552d0e",
   "metadata": {},
   "source": [
    "# Question 1. dlt Version"
   ]
  },
  {
   "cell_type": "code",
   "execution_count": 1,
   "id": "46d5a547",
   "metadata": {},
   "outputs": [],
   "source": [
    "# Let's install dlt with Qdrant support and Qdrant client:\n",
    "! pip install -q \"dlt[qdrant]\" \"qdrant-client[fastembed]\""
   ]
  },
  {
   "cell_type": "code",
   "execution_count": 2,
   "id": "3e5e7184",
   "metadata": {},
   "outputs": [
    {
     "name": "stdout",
     "output_type": "stream",
     "text": [
      "# packages in environment at C:\\Users\\CHUNGKE2\\AppData\\Local\\anaconda3\\envs\\dlt:\n",
      "#\n",
      "# Name                    Version                   Build  Channel\n",
      "dlt                       1.14.1                   pypi_0    pypi\n"
     ]
    }
   ],
   "source": [
    "! conda list dlt"
   ]
  },
  {
   "cell_type": "markdown",
   "id": "d530a5fd",
   "metadata": {},
   "source": [
    "dlt Resource"
   ]
  },
  {
   "cell_type": "code",
   "execution_count": 4,
   "id": "be7407e1",
   "metadata": {},
   "outputs": [],
   "source": [
    "import dlt\n",
    "import requests"
   ]
  },
  {
   "cell_type": "code",
   "execution_count": 5,
   "id": "9fdac786",
   "metadata": {},
   "outputs": [],
   "source": [
    "@dlt.resource\n",
    "def zoomcamp_data():\n",
    "    docs_url = 'https://github.com/alexeygrigorev/llm-rag-workshop/raw/main/notebooks/documents.json'\n",
    "    docs_response = requests.get(docs_url)\n",
    "    documents_raw = docs_response.json()\n",
    "\n",
    "    for course in documents_raw:\n",
    "        course_name = course['course']\n",
    "\n",
    "        for doc in course['documents']:\n",
    "            doc['course'] = course_name\n",
    "            yield doc"
   ]
  },
  {
   "cell_type": "code",
   "execution_count": 6,
   "id": "34cbed9e",
   "metadata": {},
   "outputs": [
    {
     "name": "stderr",
     "output_type": "stream",
     "text": [
      "c:\\Users\\CHUNGKE2\\AppData\\Local\\anaconda3\\envs\\dlt\\lib\\site-packages\\tqdm\\auto.py:21: TqdmWarning: IProgress not found. Please update jupyter and ipywidgets. See https://ipywidgets.readthedocs.io/en/stable/user_install.html\n",
      "  from .autonotebook import tqdm as notebook_tqdm\n",
      "Fetching 5 files: 100%|██████████| 5/5 [00:03<00:00,  1.53it/s]\n",
      "\n"
     ]
    },
    {
     "name": "stdout",
     "output_type": "stream",
     "text": [
      "Run started at 2025-07-30 07:25:42.507710+00:00 and COMPLETED in 56.25 seconds with 4 steps.\n",
      "Step extract COMPLETED in 1.90 seconds.\n",
      "\n",
      "Load package 1753860351.2133338 is EXTRACTED and NOT YET LOADED to the destination and contains no failed jobs\n",
      "\n",
      "Step normalize COMPLETED in 0.47 seconds.\n",
      "Normalized data for the following tables:\n",
      "- zoomcamp_data: 948 row(s)\n",
      "- _dlt_pipeline_state: 1 row(s)\n",
      "\n",
      "Load package 1753860351.2133338 is NORMALIZED and NOT YET LOADED to the destination and contains no failed jobs\n",
      "\n",
      "Step load COMPLETED in 45.20 seconds.\n",
      "Pipeline zoomcamp_pipeline load step completed in 45.09 seconds\n",
      "1 load package(s) were loaded to destination qdrant and into dataset zoomcamp_tagged_data\n",
      "The qdrant destination used c:\\Users\\CHUNGKE2\\OneDrive\\personal\\db.qdrant location to store data\n",
      "Load package 1753860351.2133338 is LOADED and contains no failed jobs\n",
      "\n",
      "Step run COMPLETED in 56.25 seconds.\n",
      "Pipeline zoomcamp_pipeline load step completed in 45.09 seconds\n",
      "1 load package(s) were loaded to destination qdrant and into dataset zoomcamp_tagged_data\n",
      "The qdrant destination used c:\\Users\\CHUNGKE2\\OneDrive\\personal\\db.qdrant location to store data\n",
      "Load package 1753860351.2133338 is LOADED and contains no failed jobs\n"
     ]
    }
   ],
   "source": [
    "# Question 2. dlt pipeline\n",
    "\n",
    "# Define the destination\n",
    "from dlt.destinations import qdrant\n",
    "\n",
    "qdrant_destination = qdrant(\n",
    "    qd_path=\"db.qdrant\", \n",
    ")\n",
    "\n",
    "# Create and run the pipeline\n",
    "pipeline = dlt.pipeline(\n",
    "    pipeline_name=\"zoomcamp_pipeline\",\n",
    "    destination=qdrant_destination,\n",
    "    dataset_name=\"zoomcamp_tagged_data\"\n",
    ")\n",
    "\n",
    "load_info = pipeline.run(zoomcamp_data())\n",
    "print(pipeline.last_trace)"
   ]
  },
  {
   "cell_type": "code",
   "execution_count": null,
   "id": "957c055e",
   "metadata": {},
   "outputs": [],
   "source": []
  }
 ],
 "metadata": {
  "kernelspec": {
   "display_name": "dlt",
   "language": "python",
   "name": "python3"
  },
  "language_info": {
   "codemirror_mode": {
    "name": "ipython",
    "version": 3
   },
   "file_extension": ".py",
   "mimetype": "text/x-python",
   "name": "python",
   "nbconvert_exporter": "python",
   "pygments_lexer": "ipython3",
   "version": "3.10.18"
  }
 },
 "nbformat": 4,
 "nbformat_minor": 5
}
